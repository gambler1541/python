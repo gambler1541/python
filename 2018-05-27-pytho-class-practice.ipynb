{
 "cells": [
  {
   "cell_type": "markdown",
   "metadata": {},
   "source": [
    "\n",
    "도서 관리 프로그램\n",
    "Library, Book, User클래스 구현\n",
    "프로그램 시작시 도서 5권 정도를 가진 상태로 시작\n",
    "\n",
    "    Library\n",
    "        attrs\n",
    "            name: 도서관명\n",
    "            book_list: 도서 목록 (Book인스턴스의 목록)\n",
    "        methods\n",
    "            add_book\n",
    "            remove_book\n",
    "        property\n",
    "            info: 가지고 있는 도서 목록을 보기좋은 텍스트로 출력 (빌려간 도서는 출력 안해도 됨)\n",
    "\n",
    "    Book\n",
    "        attrs\n",
    "            title: 제목\n",
    "            location: 현재 자신이 어떤 Library 또는 User에게 있는지를 출력\n",
    "        property\n",
    "            is_borrowed: 대출되었는지 (location이 User인지 Library인지 확인)\n",
    "\n",
    "    User\n",
    "        attrs\n",
    "            name: 이름\n",
    "            book_list: 가지고 있는 도서 목록\n",
    "        methods\n",
    "            borrow_book(library, book_name): library로부터 book을 가져옴\n",
    "            return_book(library, book_name): library에 book을 다시 건네줌\n"
   ]
  },
  {
   "cell_type": "code",
   "execution_count": 54,
   "metadata": {},
   "outputs": [],
   "source": [
    "class Library:\n",
    "    def __init__(self, name):\n",
    "        self.nmae = name\n",
    "        self.book_list = []\n",
    "    \n",
    "    # 책을 추가\n",
    "    def add_book(self, book):\n",
    "        if book.title not in self.book_list:\n",
    "            self.book_list.append(book.title)\n",
    "    # 책을 삭제\n",
    "    def remove_book(self, book):\n",
    "        if book.title in self.book_list:\n",
    "            self.book_list.remove(book.title)\n",
    " \n",
    "    @property\n",
    "    def info(self):\n",
    "        print(f'보관중인 책 : {self.book_list}')\n",
    "        "
   ]
  },
  {
   "cell_type": "code",
   "execution_count": 55,
   "metadata": {},
   "outputs": [],
   "source": [
    "class Book:\n",
    "    \n",
    "    # 책을 생성\n",
    "    # 기본 location은 'library'\n",
    "    def __init__(self, title):\n",
    "        self.title = title\n",
    "        self.location = 'library'\n",
    "     \n",
    "    # 책이 현재 library에 있는지 user에게 있는지 확인할 수 있는 메서드\n",
    "    @property\n",
    "    def in_borrowed(self):\n",
    "        if self.location == 'library':\n",
    "            print(f'{self.title}: 도서관 보관 중')\n",
    "        else:\n",
    "            print(f'{self.title} : 누군가 빌려갔습니다.')"
   ]
  },
  {
   "cell_type": "code",
   "execution_count": 86,
   "metadata": {},
   "outputs": [],
   "source": [
    "class User:\n",
    "    def __init__(self, name):\n",
    "        self.name = name\n",
    "        self.book_list = []\n",
    "        \n",
    "    @property\n",
    "    def info(self):\n",
    "        print(f'가지고 계신 책의 목록은: {self.book_list}')\n",
    "    \n",
    "    # 책을 빌리는 메서드\n",
    "    # 책이 library의 book_list에 있으면\n",
    "    # - library의 book_list에있는 book을 삭제\n",
    "    # - 삭제한 book을 user의 book_list에 추가\n",
    "    # book의 location을 library에서 user로 변경\n",
    "    def borrow_book(self, book):\n",
    "        if book.title in library.book_list:\n",
    "            library.book_list.remove(book.title)\n",
    "            self.book_list.append(book.title)\n",
    "            book.location = 'user'\n",
    "    \n",
    "    # 책을 빌리는 메서드와 반대\n",
    "    def return_book(self, book):\n",
    "        if book.title in self.book_list:\n",
    "            self.book_list.remove(book.title)\n",
    "            library.book_list.append(book.title)\n",
    "            book.location = 'library'\n",
    "        else:\n",
    "            print(f'{book.title}은 없습니다.')\n",
    "            \n",
    "    "
   ]
  },
  {
   "cell_type": "code",
   "execution_count": 87,
   "metadata": {},
   "outputs": [],
   "source": [
    "library = Library('명배')"
   ]
  },
  {
   "cell_type": "code",
   "execution_count": 88,
   "metadata": {},
   "outputs": [
    {
     "name": "stdout",
     "output_type": "stream",
     "text": [
      "보관중인 책 : []\n"
     ]
    }
   ],
   "source": [
    "library.info"
   ]
  },
  {
   "cell_type": "code",
   "execution_count": 89,
   "metadata": {},
   "outputs": [],
   "source": [
    "book1 = Book('python')\n",
    "book2 = Book('asdf')\n",
    "book3 = Book('mbvcm')\n",
    "book4 = Book('asda')\n",
    "book5 = Book('asdfae')"
   ]
  },
  {
   "cell_type": "code",
   "execution_count": 90,
   "metadata": {},
   "outputs": [
    {
     "name": "stdout",
     "output_type": "stream",
     "text": [
      "python: 도서관 보관 중\n"
     ]
    }
   ],
   "source": [
    "book1.in_borrowed"
   ]
  },
  {
   "cell_type": "code",
   "execution_count": 91,
   "metadata": {},
   "outputs": [],
   "source": [
    "library.add_book(book1)\n",
    "library.add_book(book2)\n",
    "library.add_book(book3)\n",
    "library.add_book(book4)\n",
    "library.add_book(book5)"
   ]
  },
  {
   "cell_type": "code",
   "execution_count": 92,
   "metadata": {},
   "outputs": [
    {
     "name": "stdout",
     "output_type": "stream",
     "text": [
      "보관중인 책 : ['python', 'asdf', 'mbvcm', 'asda', 'asdfae']\n"
     ]
    }
   ],
   "source": [
    "library.info"
   ]
  },
  {
   "cell_type": "code",
   "execution_count": 93,
   "metadata": {},
   "outputs": [
    {
     "name": "stdout",
     "output_type": "stream",
     "text": [
      "보관중인 책 : ['python', 'asdf', 'mbvcm', 'asda']\n"
     ]
    }
   ],
   "source": [
    "library.remove_book(book5)\n",
    "library.info"
   ]
  },
  {
   "cell_type": "code",
   "execution_count": 94,
   "metadata": {},
   "outputs": [],
   "source": [
    "mb = User('박명배')"
   ]
  },
  {
   "cell_type": "code",
   "execution_count": 95,
   "metadata": {},
   "outputs": [
    {
     "name": "stdout",
     "output_type": "stream",
     "text": [
      "가지고 계신 책의 목록은: []\n"
     ]
    }
   ],
   "source": [
    "mb.info"
   ]
  },
  {
   "cell_type": "code",
   "execution_count": 96,
   "metadata": {},
   "outputs": [],
   "source": [
    "mb.borrow_book(book1)"
   ]
  },
  {
   "cell_type": "code",
   "execution_count": 97,
   "metadata": {},
   "outputs": [
    {
     "name": "stdout",
     "output_type": "stream",
     "text": [
      "가지고 계신 책의 목록은: ['python']\n",
      "보관중인 책 : ['asdf', 'mbvcm', 'asda']\n"
     ]
    }
   ],
   "source": [
    "mb.info\n",
    "library.info"
   ]
  },
  {
   "cell_type": "code",
   "execution_count": 98,
   "metadata": {},
   "outputs": [],
   "source": [
    "mb.return_book(book1)"
   ]
  },
  {
   "cell_type": "code",
   "execution_count": 99,
   "metadata": {},
   "outputs": [
    {
     "name": "stdout",
     "output_type": "stream",
     "text": [
      "가지고 계신 책의 목록은: []\n",
      "보관중인 책 : ['asdf', 'mbvcm', 'asda', 'python']\n"
     ]
    }
   ],
   "source": [
    "mb.info\n",
    "library.info"
   ]
  },
  {
   "cell_type": "code",
   "execution_count": null,
   "metadata": {},
   "outputs": [],
   "source": []
  },
  {
   "cell_type": "code",
   "execution_count": null,
   "metadata": {},
   "outputs": [],
   "source": []
  }
 ],
 "metadata": {
  "kernelspec": {
   "display_name": "Python 3",
   "language": "python",
   "name": "python3"
  },
  "language_info": {
   "codemirror_mode": {
    "name": "ipython",
    "version": 3
   },
   "file_extension": ".py",
   "mimetype": "text/x-python",
   "name": "python",
   "nbconvert_exporter": "python",
   "pygments_lexer": "ipython3",
   "version": "3.6.5"
  }
 },
 "nbformat": 4,
 "nbformat_minor": 2
}
